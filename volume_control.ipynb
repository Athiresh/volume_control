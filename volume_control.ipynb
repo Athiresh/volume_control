{
 "cells": [
  {
   "cell_type": "code",
   "execution_count": 1,
   "metadata": {},
   "outputs": [],
   "source": [
    "import cv2                                        # import necessary libraries and modules\n",
    "import mediapipe as mp                            # MediaPipe for hand tracking\n",
    "import pyautogui                                  # PyAutoGUI for simulating keyboard events\n",
    "from ctypes import cast, POINTER                  # used for casting COM objects\n",
    "from comtypes import CLSCTX_ALL                   # specifies the context for COM object activation\n",
    "from pycaw.pycaw import AudioUtilities, IAudioEndpointVolume # PyCAW for audio control"
   ]
  },
  {
   "cell_type": "code",
   "execution_count": 2,
   "metadata": {},
   "outputs": [],
   "source": [
    "vdo=cv2.VideoCapture(0)  # a video capture object to capture video\n",
    "mphands=mp.solutions.hands\n",
    "hands=mphands.Hands(min_detection_confidence=0.5, min_tracking_confidence=0.5)\n",
    "mp_drawing=mp.solutions.drawing_utils  # MediaPipe drawing utils object to draw landmarks on the frame\n",
    "\n",
    "devices=AudioUtilities.GetSpeakers()\n",
    "interface=devices.Activate(IAudioEndpointVolume._iid_, CLSCTX_ALL, None)\n",
    "volume=cast(interface, POINTER(IAudioEndpointVolume))\n",
    "\n",
    "while True:\n",
    "    suc,frame=vdo.read()\n",
    "    if not suc:\n",
    "        break\n",
    "\n",
    "    results=hands.process(cv2.cvtColor(frame, cv2.COLOR_BGR2RGB)) # process the frame to detect hand landmarks using the Hands model\n",
    "\n",
    "    if results.multi_hand_landmarks:\n",
    "        for hand_landmarks in results.multi_hand_landmarks:\n",
    "            mp_drawing.draw_landmarks(frame, hand_landmarks, mphands.HAND_CONNECTIONS)\n",
    "\n",
    "            # get the y-coordinate of the index finger tip and thumb tip landmarks\n",
    "            index_f=hand_landmarks.landmark[mphands.HandLandmark.INDEX_FINGER_TIP].y\n",
    "            thumb_f=hand_landmarks.landmark[mphands.HandLandmark.THUMB_TIP].y\n",
    "\n",
    "            # determining the gesture based on finger positions\n",
    "            if index_f<thumb_f:\n",
    "                gesture='pointing up'\n",
    "                cv2.putText(frame, 'Increasing Volume', (10,110), cv2.FONT_HERSHEY_SIMPLEX, 1, (0,0,255), 3)\n",
    "\n",
    "            elif index_f>thumb_f:\n",
    "                gesture='pointing down'\n",
    "                cv2.putText(frame, 'Reducing Volume', (10, 110), cv2.FONT_HERSHEY_SIMPLEX, 1, (255,0,0), 3)\n",
    "\n",
    "            else:\n",
    "                gesture='not detected'\n",
    "\n",
    "            # performing volume control based on the detected gesture\n",
    "            if gesture=='pointing up':\n",
    "                pyautogui.press('volumeup')\n",
    "\n",
    "            elif gesture=='pointing down':\n",
    "                pyautogui.press('volumedown')\n",
    "\n",
    "\n",
    "            current_volume=volume.GetMasterVolumeLevelScalar()  # the current volume level\n",
    "\n",
    "            # volume status on the frame based on the current volume level\n",
    "            if current_volume==0:\n",
    "                cv2.putText(frame, 'Mute', (10,70), cv2.FONT_HERSHEY_DUPLEX, 2, (0,128,0), 4)\n",
    "\n",
    "            elif current_volume==1.0:\n",
    "                cv2.putText(frame, 'Max', (10,70), cv2.FONT_HERSHEY_DUPLEX, 2, (0,100,255), 4)\n",
    "\n",
    "\n",
    "    cv2.imshow('Volume Gesture',frame)\n",
    "    if cv2.waitKey(1) & 0xFF==ord('q'):\n",
    "        break\n",
    "\n",
    "vdo.release()\n",
    "cv2.destroyAllWindows() # release the video capture"
   ]
  }
 ],
 "metadata": {
  "kernelspec": {
   "display_name": "Python 3",
   "language": "python",
   "name": "python3"
  },
  "language_info": {
   "codemirror_mode": {
    "name": "ipython",
    "version": 3
   },
   "file_extension": ".py",
   "mimetype": "text/x-python",
   "name": "python",
   "nbconvert_exporter": "python",
   "pygments_lexer": "ipython3",
   "version": "3.11.1"
  },
  "orig_nbformat": 4
 },
 "nbformat": 4,
 "nbformat_minor": 2
}
